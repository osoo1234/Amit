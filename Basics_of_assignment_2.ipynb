{
  "cells": [
    {
      "cell_type": "markdown",
      "metadata": {
        "id": "9NXyYtIAQuIG"
      },
      "source": [
        "# Python program to interchange first and last elements in a list\n"
      ]
    },
    {
      "cell_type": "markdown",
      "metadata": {
        "id": "Y8j1uUT8Q6Xf"
      },
      "source": [
        "- Examples\n",
        "\n",
        "- Input : [12, 35, 9, 56, 24]\n",
        "- Output : [24, 35, 9, 56, 12]\n",
        "\n",
        "- Input : [1, 2, 3]\n",
        "- Output : [3, 2, 1]"
      ]
    },
    {
      "cell_type": "code",
      "execution_count": 1,
      "metadata": {},
      "outputs": [
        {
          "name": "stdout",
          "output_type": "stream",
          "text": [
            "[24, 35, 9, 56, 12]\n",
            "[3, 2, 1]\n"
          ]
        }
      ],
      "source": [
        "lst = [12, 35, 9, 56, 24]\n",
        "lst[0], lst[-1] = lst[-1], lst[0]\n",
        "print(lst)  \n",
        "\n",
        "lst = [1, 2, 3]\n",
        "lst[0], lst[-1] = lst[-1], lst[0]\n",
        "print(lst)"
      ]
    },
    {
      "cell_type": "markdown",
      "metadata": {
        "id": "h-yd-gv7RnYW"
      },
      "source": [
        "### Find the Length of a List in Python\n",
        "\n"
      ]
    },
    {
      "cell_type": "markdown",
      "metadata": {
        "id": "AapkQMkGRqqg"
      },
      "source": [
        "- Input: lst = [10,20,30,40]\n",
        "- Output: 4\n",
        "- Explanation: The output is 4 because thelength of the list is  4."
      ]
    },
    {
      "cell_type": "code",
      "execution_count": 1,
      "metadata": {},
      "outputs": [
        {
          "data": {
            "text/plain": [
              "4"
            ]
          },
          "execution_count": 1,
          "metadata": {},
          "output_type": "execute_result"
        }
      ],
      "source": [
        "l1 = [10,20,30,40]\n",
        "print(len(l1))"
      ]
    },
    {
      "cell_type": "markdown",
      "metadata": {
        "id": "Y-XZTe1ES7pJ"
      },
      "source": [
        "### Python | Find elements of a list by indices\n",
        "- Input : lst1 = [10, 20, 30, 40, 50]\n",
        "-        lst2 = [0, 2, 4]\n",
        "- Output : [10, 30, 50]"
      ]
    },
    {
      "cell_type": "code",
      "execution_count": 2,
      "metadata": {},
      "outputs": [
        {
          "name": "stdout",
          "output_type": "stream",
          "text": [
            "[10, 30, 50]\n"
          ]
        }
      ],
      "source": [
        "lst1 = [10, 20, 30, 40, 50]\n",
        "lst2 = [0, 2, 4]\n",
        "result = lst1[::2]\n",
        "print(result)"
      ]
    },
    {
      "cell_type": "markdown",
      "metadata": {
        "id": "3fmiplSXTmN-"
      },
      "source": [
        "# Python program to find the String in a List\n"
      ]
    },
    {
      "cell_type": "markdown",
      "metadata": {
        "id": "0HdTN1z3TpYH"
      },
      "source": [
        "- Input: l=[1, 1.0, 'have', 'a', 'geeky', 'day']; s='geeky'\n",
        "- Output: True\n",
        "- Explanation: geeky is present in the input list"
      ]
    },
    {
      "cell_type": "code",
      "execution_count": 3,
      "metadata": {},
      "outputs": [
        {
          "name": "stdout",
          "output_type": "stream",
          "text": [
            "True\n"
          ]
        }
      ],
      "source": [
        "l = [1, 1.0, 'have', 'a', 'geeky', 'day']\n",
        "s = 'geeky'\n",
        "print(s in l)"
      ]
    },
    {
      "cell_type": "markdown",
      "metadata": {
        "id": "PID_7zUJT-HU"
      },
      "source": [
        "\n",
        "\n",
        "```\n",
        "#  hint you can use in\n",
        "```\n",
        "\n",
        "- The in keyword is used to check if a value is present in a sequence (list, range, string etc.).\n",
        "\n"
      ]
    },
    {
      "cell_type": "code",
      "execution_count": null,
      "metadata": {
        "id": "folb7eDqUXwk"
      },
      "outputs": [],
      "source": [
        "fruits = [\"apple\", \"banana\", \"cherry\"]\n",
        "print(\"banana\" in fruits)"
      ]
    },
    {
      "cell_type": "markdown",
      "metadata": {
        "id": "WI5-sy7eU9Gm"
      },
      "source": [
        "## Ways to find indices of value in list\n",
        "\n",
        "\n",
        "- list of animals\n",
        "- Animals= [\"cat\", \"dog\", \"tiger\"]\n",
        "- searching positiion of dog\n",
        "- output is 1"
      ]
    },
    {
      "cell_type": "markdown",
      "metadata": {
        "id": "-WY6GZpgVjs-"
      },
      "source": [
        "### Find most frequent element in a list\n",
        "- Input : [2, 1, 2, 2, 1, 3]\n",
        "- Output : 2\n",
        "\n",
        "- Input : ['Dog', 'Cat', 'Dog']\n",
        "- Output : Dog"
      ]
    },
    {
      "cell_type": "code",
      "execution_count": null,
      "metadata": {},
      "outputs": [],
      "source": [
        "animals = [\"cat\", \"dog\", \"tiger\"]\n",
        "index = animals.index(\"dog\")\n",
        "print(index)"
      ]
    },
    {
      "cell_type": "markdown",
      "metadata": {
        "id": "iplk5uDKfiye"
      },
      "source": [
        "- hint you can use max in python"
      ]
    },
    {
      "cell_type": "code",
      "execution_count": 4,
      "metadata": {},
      "outputs": [
        {
          "name": "stdout",
          "output_type": "stream",
          "text": [
            "2\n"
          ]
        }
      ],
      "source": [
        "lst = [2, 1, 2, 2, 1, 3]\n",
        "count_2 = lst.count(2)\n",
        "count_1 = lst.count(1)\n",
        "count_3 = lst.count(3)\n",
        "if count_2 > count_1 and count_2 > count_3:\n",
        "    most_frequent = 2\n",
        "elif count_1 > count_2 and count_1 > count_3:\n",
        "    most_frequent = 1\n",
        "else:\n",
        "    most_frequent = 3\n",
        "print(most_frequent)"
      ]
    },
    {
      "cell_type": "markdown",
      "metadata": {
        "id": "-vF6f8UQZIgq"
      },
      "source": [
        "## Remove an Item from the List in Python.\n",
        "- Input: ['Rose',' Lily', 'Lotus', 'Sun', 'Sunflower']\n",
        "- Delete: 'Sun'\n",
        "- Output: ['Rose',' Lily', 'Lotus', 'Sunflower']\n",
        "- Explanation: In this, we have removed the 'Sun' element from the given list"
      ]
    },
    {
      "cell_type": "code",
      "execution_count": null,
      "metadata": {},
      "outputs": [],
      "source": [
        "flowers = ['Rose', 'Lily', 'Lotus', 'Sun', 'Sunflower']\n",
        "flowers.remove('Sun')\n",
        "print(flowers)"
      ]
    },
    {
      "cell_type": "markdown",
      "metadata": {
        "id": "l_YTnBftZe7V"
      },
      "source": [
        "# Remove multiple elements from a list in Python\n",
        "- Input: [12, 15, 3, 10]\n",
        "- Output: Remove = [12, 3], New_List = [15, 10]\n",
        "\n",
        "- Input: [11, 5, 17, 18, 23, 50]\n",
        "- Output: Remove = [1:5], New_list = [11, 50]"
      ]
    },
    {
      "cell_type": "code",
      "execution_count": null,
      "metadata": {},
      "outputs": [],
      "source": [
        "lst = [12, 15, 3, 10]\n",
        "lst.remove(12)\n",
        "lst.remove(3)\n",
        "print(lst) \n",
        "\n",
        "lst = [11, 5, 17, 18, 23, 50]\n",
        "del lst[1:5]\n",
        "print(lst)"
      ]
    },
    {
      "cell_type": "markdown",
      "metadata": {
        "id": "yYoINEUvcG4-"
      },
      "source": [
        "# python program to check whether the string is Palindrome  and get the str from user"
      ]
    },
    {
      "cell_type": "markdown",
      "metadata": {
        "id": "ARhC7ZL6cvjO"
      },
      "source": [
        "- Input : malayalam\n",
        "- Output : True\n",
        "\n",
        "- Input : geeks\n",
        "- Output : False"
      ]
    },
    {
      "cell_type": "code",
      "execution_count": null,
      "metadata": {},
      "outputs": [],
      "source": [
        "s = \"malayalam\"\n",
        "is_palindrome = (s == s[::-1])\n",
        "if is_palindrome:\n",
        "    print(True) \n",
        "else:\n",
        "    print(False)  \n",
        "\n",
        "\n",
        "s = \"geeks\"\n",
        "is_palindrome = (s == s[::-1])\n",
        "\n",
        "if is_palindrome:\n",
        "    print(True) \n",
        "else:\n",
        "    print(False)"
      ]
    },
    {
      "cell_type": "markdown",
      "metadata": {
        "id": "_EYlmszadOww"
      },
      "source": [
        "### Reverse Words in a Given String in Python\n",
        "- Input : str =\" geeks quiz practice code\"\n",
        "- Output : str = code practice quiz geeks  \n",
        "- Input : str = \"my name is laxmi\"\n",
        "- output : str= laxmi is name my"
      ]
    },
    {
      "cell_type": "code",
      "execution_count": null,
      "metadata": {},
      "outputs": [],
      "source": [
        "str = \"geeks quiz practice code\"\n",
        "reversed_str = ' '.join(str.split()[::-1])\n",
        "print(reversed_str)  \n",
        "\n",
        "str = \"my name is laxmi\"\n",
        "reversed_str = ' '.join(str.split()[::-1])\n",
        "print(reversed_str)"
      ]
    },
    {
      "cell_type": "markdown",
      "metadata": {
        "id": "242TCJPleCof"
      },
      "source": [
        "### Find length of a string in python\n",
        "- Input : 'abc'\n",
        "- Output : 3\n",
        "\n",
        "- Input : 'hello world !'\n",
        "- Output : 13\n",
        "\n",
        "- Input : ' h e l   l  o '\n",
        "- Output :14"
      ]
    },
    {
      "cell_type": "code",
      "execution_count": null,
      "metadata": {},
      "outputs": [],
      "source": [
        "print(len('abc'))  \n",
        "print(len('hello world !'))  \n",
        "print(len(' h e l l o '))"
      ]
    },
    {
      "cell_type": "markdown",
      "metadata": {
        "id": "rE_STqG_fFJs"
      },
      "source": [
        "###  Avoid Spaces in string length\n",
        "\n",
        "\n",
        "```\n",
        "- string = \"Hello, world!  \"\n",
        "- with space 15\n",
        "- without space is 12\n",
        "```\n",
        "\n",
        "\n"
      ]
    },
    {
      "cell_type": "code",
      "execution_count": null,
      "metadata": {},
      "outputs": [],
      "source": [
        "string = \"Hello, world!  \"\n",
        "length_without_spaces = len(string.replace(' ', ''))\n",
        "print(length_without_spaces)"
      ]
    },
    {
      "cell_type": "markdown",
      "metadata": {
        "id": "zRnIlNqSf3ni"
      },
      "source": [
        "-  hint you can use len in python to get len of str or list"
      ]
    },
    {
      "cell_type": "markdown",
      "metadata": {
        "id": "FebQFluegBW2"
      },
      "source": [
        "# Smallest Length String in the list\n",
        "- test_list = ['gfg', 'is', 'best', 'for', 'geeks']\n",
        "- Minimum length string is : is\n"
      ]
    },
    {
      "cell_type": "markdown",
      "metadata": {
        "id": "Nn_2JLRJgZ3h"
      },
      "source": [
        "-  hint you can use min in python"
      ]
    },
    {
      "cell_type": "code",
      "execution_count": null,
      "metadata": {},
      "outputs": [],
      "source": [
        "test_list = ['gfg', 'is', 'best', 'for', 'geeks']\n",
        "min_length_string = min(test_list, key=len)\n",
        "print(min_length_string)"
      ]
    }
  ],
  "metadata": {
    "colab": {
      "private_outputs": true,
      "provenance": []
    },
    "kernelspec": {
      "display_name": "Python 3",
      "name": "python3"
    },
    "language_info": {
      "codemirror_mode": {
        "name": "ipython",
        "version": 3
      },
      "file_extension": ".py",
      "mimetype": "text/x-python",
      "name": "python",
      "nbconvert_exporter": "python",
      "pygments_lexer": "ipython3",
      "version": "3.12.3"
    }
  },
  "nbformat": 4,
  "nbformat_minor": 0
}
